{
 "cells": [
  {
   "cell_type": "code",
   "execution_count": null,
   "metadata": {},
   "outputs": [],
   "source": [
    "from pcbnew import *\n",
    "board = LoadBoard(\"./kits_prettyvis.kicad_pcb\")"
   ]
  },
  {
   "cell_type": "code",
   "execution_count": null,
   "metadata": {},
   "outputs": [],
   "source": [
    "pctl = PLOT_CONTROLLER(board)\n",
    "popt = pctl.GetPlotOptions()\n",
    "popt.SetOutputDirectory(\"prettyvis\")\n",
    "\n",
    "popt.SetPlotFrameRef(False)\n",
    "popt.SetLineWidth(FromMM(3.))\n",
    "\n",
    "popt.SetAutoScale(False)\n",
    "popt.SetScale(1)\n",
    "popt.SetMirror(False)\n",
    "popt.SetUseGerberAttributes(True)\n",
    "popt.SetExcludeEdgeLayer(False);\n",
    "popt.SetScale(5)\n",
    "popt.SetUseAuxOrigin(False)"
   ]
  },
  {
   "cell_type": "code",
   "execution_count": null,
   "metadata": {},
   "outputs": [],
   "source": [
    "for i,t in enumerate(board.GetTracks()):\n",
    "    pctl.SetLayer(F_Cu)\n",
    "    popt.SetMirror(False)\n",
    "    pctl.OpenPlotfile(\"all_front_track_%05d\"%i, PLOT_FORMAT_SVG, \"Pretty!\")\n",
    "    pctl.PlotLayer()\n",
    "    pctl.SetLayer(B_Cu)\n",
    "    popt.SetMirror(True)\n",
    "    pctl.OpenPlotfile(\"all_back_track_%05d\"%i, PLOT_FORMAT_SVG, \"Pretty!\")\n",
    "    pctl.PlotLayer()\n",
    "    t.DeleteStructure()\n",
    "for i,m in enumerate(board.GetModules()):\n",
    "    pctl.SetLayer(F_Cu)\n",
    "    popt.SetMirror(False)\n",
    "    pctl.OpenPlotfile(\"all_front_module_%05d\"%i, PLOT_FORMAT_SVG, \"Pretty!\")\n",
    "    pctl.PlotLayer()\n",
    "    pctl.SetLayer(B_Cu)\n",
    "    popt.SetMirror(True)\n",
    "    pctl.OpenPlotfile(\"all_back_module_%05d\"%i, PLOT_FORMAT_SVG, \"Pretty!\")\n",
    "    pctl.PlotLayer()\n",
    "    m.DeleteStructure()\n",
    "    c = i\n",
    "pctl.SetLayer(F_Cu)\n",
    "popt.SetMirror(False)\n",
    "pctl.OpenPlotfile(\"all_front_module_%05d\"%(c+1), PLOT_FORMAT_SVG, \"Pretty!\")\n",
    "pctl.PlotLayer()\n",
    "pctl.SetLayer(B_Cu)\n",
    "popt.SetMirror(True)\n",
    "pctl.OpenPlotfile(\"all_back_module_%05d\"%(c+1), PLOT_FORMAT_SVG, \"Pretty!\")\n",
    "pctl.PlotLayer()\n",
    "pctl.ClosePlot()"
   ]
  },
  {
   "cell_type": "code",
   "execution_count": null,
   "metadata": {},
   "outputs": [],
   "source": [
    "import glob\n",
    "import os"
   ]
  },
  {
   "cell_type": "code",
   "execution_count": null,
   "metadata": {},
   "outputs": [],
   "source": [
    "allfiles = sorted(glob.glob(\"prettyvis/kits_prettyvis-all_back_module_*\"),reverse=True)\n",
    "allfiles += sorted(glob.glob(\"prettyvis/kits_prettyvis-all_back_track_*\"),reverse=True)\n",
    "for i,f in enumerate(allfiles):\n",
    "    os.system(\"mv %s prettyvis/back_%05d.svg\"%(f,i))"
   ]
  },
  {
   "cell_type": "code",
   "execution_count": null,
   "metadata": {},
   "outputs": [],
   "source": [
    "allfiles = sorted(glob.glob(\"prettyvis/kits_prettyvis-all_front_module_*\"),reverse=True)\n",
    "allfiles += sorted(glob.glob(\"prettyvis/kits_prettyvis-all_front_track_*\"),reverse=True)\n",
    "for i,f in enumerate(allfiles):\n",
    "    os.system(\"mv %s prettyvis/front_%05d.svg\"%(f,i))"
   ]
  },
  {
   "cell_type": "code",
   "execution_count": null,
   "metadata": {},
   "outputs": [],
   "source": [
    "for i in range(len(allfiles)):\n",
    "    os.system(\"inkscape -z -e prettyvis/front_%05d.png --export-area-drawing --export-dpi=300 prettyvis/front_%05d.svg\"%(i,i))\n",
    "    os.system(\"inkscape -z -e prettyvis/back_%05d.png --export-area-drawing --export-dpi=300 prettyvis/back_%05d.svg\"%(i,i))"
   ]
  },
  {
   "cell_type": "code",
   "execution_count": null,
   "metadata": {},
   "outputs": [],
   "source": [
    "for i in range(len(allfiles)):\n",
    "    os.system(\"mogrify -fuzz 30%% -fill purple -opaque black prettyvis/back_%05d.png\"%(i))\n",
    "    os.system(\"mogrify -fuzz 30%% -fill purple -opaque black prettyvis/front_%05d.png\"%(i))"
   ]
  },
  {
   "cell_type": "code",
   "execution_count": null,
   "metadata": {},
   "outputs": [],
   "source": [
    "for i in range(len(allfiles)):\n",
    "    os.system(\"montage prettyvis/*_%05d.png[1180x1180] -geometry +40+40 -tile 2x1 prettyvis/mon_%05d.png\"%(i,i))"
   ]
  },
  {
   "cell_type": "code",
   "execution_count": null,
   "metadata": {},
   "outputs": [],
   "source": [
    "os.system(\"mkdir prettyvis/tmp\")\n",
    "os.system(\"mv prettyvis/back* prettyvis/front* prettyvis/tmp\")\n",
    "os.system(\"mkdir prettyvis/slow\")\n",
    "os.system(\"mkdir prettyvis/fast\")\n",
    "for i in range(57+1):\n",
    "    os.system(\"mv prettyvis/mon_%05d.png prettyvis/slow\"%i)\n",
    "os.system(\"mv prettyvis/mon_* prettyvis/fast\")"
   ]
  },
  {
   "cell_type": "code",
   "execution_count": null,
   "metadata": {},
   "outputs": [],
   "source": [
    "# !ffmpeg -y -framerate 15 -pattern_type glob -i \"prettyvis/slow/mon*.png\" -c:v libx264 -r 30 -pix_fmt yuv420p prettyvis/1.mp4"
   ]
  },
  {
   "cell_type": "code",
   "execution_count": null,
   "metadata": {},
   "outputs": [],
   "source": [
    "# !ffmpeg -y -framerate 250 -pattern_type glob -i \"prettyvis/fast/mon*.png\" -c:v libx264 -r 30 -pix_fmt yuv420p prettyvis/2.mp4"
   ]
  },
  {
   "cell_type": "markdown",
   "metadata": {},
   "source": [
    "# In case inkscape crashes on a few"
   ]
  },
  {
   "cell_type": "code",
   "execution_count": null,
   "metadata": {},
   "outputs": [],
   "source": [
    "allns = {g.split(\"_\")[-1].split(\".\")[0]\n",
    "         for g in glob.glob(\"prettyvis/tmp/front*svg\")}\n",
    "backns = {g.split(\"_\")[-1].split(\".\")[0]\n",
    "          for g in glob.glob(\"prettyvis/tmp/back*png\")}\n",
    "backns = allns - backns\n",
    "frontns = {g.split(\"_\")[-1].split(\".\")[0]\n",
    "           for g in glob.glob(\"prettyvis/tmp/front*png\")}\n",
    "frontns = allns - frontns\n",
    "allbadns = set.union(frontns,backns)"
   ]
  },
  {
   "cell_type": "code",
   "execution_count": null,
   "metadata": {},
   "outputs": [],
   "source": [
    "for n in allbadns:\n",
    "    os.system(\"inkscape -z -e prettyvis/tmp/front_%s.png --export-area-drawing --export-dpi=300 prettyvis/tmp/front_%s.svg\"%(n,n))\n",
    "    os.system(\"inkscape -z -e prettyvis/tmp/back_%s.png --export-area-drawing --export-dpi=300 prettyvis/tmp/back_%s.svg\"%(n,n))"
   ]
  },
  {
   "cell_type": "code",
   "execution_count": null,
   "metadata": {},
   "outputs": [],
   "source": [
    "for n in allbadns:\n",
    "    os.system(\"mogrify -fuzz 30%% -fill purple -opaque black prettyvis/tmp/back_%s.png\"%(n))\n",
    "    os.system(\"mogrify -fuzz 30%% -fill purple -opaque black prettyvis/tmp/front_%s.png\"%(n))"
   ]
  },
  {
   "cell_type": "code",
   "execution_count": null,
   "metadata": {},
   "outputs": [],
   "source": [
    "for n in allbadns:\n",
    "    os.system(\"montage prettyvis/tmp/*_%s.png[1180x1180] -geometry +40+40 -tile 2x1 prettyvis/mon_%s.png\"%(n,n))"
   ]
  },
  {
   "cell_type": "code",
   "execution_count": null,
   "metadata": {},
   "outputs": [],
   "source": [
    "os.system(\"mv prettyvis/mon_* prettyvis/fast\")"
   ]
  },
  {
   "cell_type": "markdown",
   "metadata": {},
   "source": [
    "# Drafts"
   ]
  },
  {
   "cell_type": "code",
   "execution_count": null,
   "metadata": {},
   "outputs": [],
   "source": [
    "modules = board.GetModules()\n",
    "back_modules = [m for m in modules if m.GetLayerName()==\"B.Cu\"]\n",
    "front_modules = [m for m in modules if m.GetLayerName()==\"F.Cu\"]"
   ]
  },
  {
   "cell_type": "code",
   "execution_count": null,
   "metadata": {},
   "outputs": [],
   "source": [
    "tracks = board.GetTracks()\n",
    "back_tracks = [t for t in tracks if t.GetLayerName()==\"B.Cu\" or t.GetClass()==\"VIA\"]\n",
    "front_tracks = [t for t in tracks if t.GetLayerName()==\"F.Cu\" or t.GetClass()==\"VIA\"]"
   ]
  },
  {
   "cell_type": "code",
   "execution_count": null,
   "metadata": {},
   "outputs": [],
   "source": [
    "popt.SetMirror(True)\n",
    "pctl.SetLayer(B_Cu)\n",
    "for i,t in enumerate(back_tracks):\n",
    "    pctl.OpenPlotfile(\"back_track_%05d\"%i, PLOT_FORMAT_SVG, \"Pretty!\")\n",
    "    t.DeleteStructure()\n",
    "    pctl.PlotLayer()\n",
    "for i,m in enumerate(back_modules):\n",
    "    pctl.OpenPlotfile(\"back_module_%05d\"%i, PLOT_FORMAT_SVG, \"Pretty!\")\n",
    "    m.DeleteStructure()\n",
    "    pctl.PlotLayer()"
   ]
  },
  {
   "cell_type": "code",
   "execution_count": null,
   "metadata": {},
   "outputs": [],
   "source": [
    "pctl.ClosePlot()"
   ]
  },
  {
   "cell_type": "code",
   "execution_count": null,
   "metadata": {},
   "outputs": [],
   "source": [
    "pctl.SetLayer(F_Cu)\n",
    "for i,t in enumerate(front_tracks):\n",
    "    pctl.OpenPlotfile(\"front_track_%05d\"%i, PLOT_FORMAT_SVG, \"Pretty!\")\n",
    "    t.DeleteStructure()\n",
    "    pctl.PlotLayer()\n",
    "for i,m in enumerate(front_modules):\n",
    "    pctl.OpenPlotfile(\"front_module_%05d\"%i, PLOT_FORMAT_SVG, \"Pretty!\")\n",
    "    m.DeleteStructure()\n",
    "    pctl.PlotLayer()"
   ]
  },
  {
   "cell_type": "code",
   "execution_count": null,
   "metadata": {},
   "outputs": [],
   "source": [
    "pctl.ClosePlot()"
   ]
  }
 ],
 "metadata": {
  "@webio": {
   "lastCommId": null,
   "lastKernelId": null
  },
  "kernelspec": {
   "display_name": "Python 3",
   "language": "python",
   "name": "python3"
  },
  "language_info": {
   "codemirror_mode": {
    "name": "ipython",
    "version": 3
   },
   "file_extension": ".py",
   "mimetype": "text/x-python",
   "name": "python",
   "nbconvert_exporter": "python",
   "pygments_lexer": "ipython3",
   "version": "3.6.9"
  }
 },
 "nbformat": 4,
 "nbformat_minor": 2
}
